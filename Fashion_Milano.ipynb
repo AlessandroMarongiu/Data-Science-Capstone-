{
    "cells": [
        {
            "cell_type": "markdown",
            "metadata": {
                "collapsed": true
            },
            "source": "# The main shopping districts and streets in Milan"
        },
        {
            "cell_type": "markdown",
            "metadata": {},
            "source": "This is the Notebook realized for the Capstone Project on Data Science.\nMain goal: segmenting and clustiring 88 omojeneous area in city of Milan in order to answer is there a fashion district, "
        },
        {
            "cell_type": "markdown",
            "metadata": {},
            "source": "### Business Problem"
        },
        {
            "cell_type": "markdown",
            "metadata": {},
            "source": "The city of Milano is famous for fashion shops and restaurants. According to city government the city is divided into 88 areas considered as homogeneous called NIL (Local Identity Zones). Available as open data it is possbile to get for all these aresa all the bulding adresses of the city getting from the pubblic authority the latitude, longitude, number, street or square name for each building. Goal of this projetc is clustering city areas and extend the analysis to the specific adresses of a specific zone in order to classify each area of the 88 NIL zones and each bulding adress into a specific NIL area. \nLets consider a costumer how deals with fashion and clothes products how wants to open a new store in Milano. The questions are: which is the most fashion areas where the store are concentrating as fashion district and in this district wich are the most appreciated streets squares in the district.\nThe goal is to answer to an investitor: wich are the more trending fashion districts in Milano and selected one of this district how is possible to get the most trending adresses for fashion shops defined as name of the street or square.\nIn Miano, if someone is looking to open a fashion store, the project will give some indication."
        },
        {
            "cell_type": "markdown",
            "metadata": {},
            "source": "### Data description"
        },
        {
            "cell_type": "markdown",
            "metadata": {},
            "source": "Definition of 88 areas (NIL) of Milano and building adresses are available as open data from Comune di Milano: http://dati.comune.milano.it/dataset. The NIL dataframe will defined as latitude, longitude, name of NIL and NIL ID (unique code of the area). In a first key means analysys, it will be tryed to identify the most fashion NIL area. Another dataframe will be downoloaded from Comune di Milano getting the info on Stree/Square Name, Number, Latitude, Longitude and NIL ID. After scrabing the data the dataset on adresses will be joint to the Areas dataset and for a NIL area classified as fashion zone the classification will be extended to the new dataframe of local adresses in order to get the adresses more fashion shops."
        },
        {
            "cell_type": "code",
            "execution_count": null,
            "metadata": {},
            "outputs": [
                {
                    "name": "stdout",
                    "output_type": "stream",
                    "text": "Solving environment: - "
                }
            ],
            "source": "import pandas as pd\nimport numpy as np\n\nimport json # library to handle JSON files\n\n!conda install -c conda-forge geopy --yes \nfrom geopy.geocoders import Nominatim # convert an address into latitude and longitude values\n\nimport requests # library to handle requests\nfrom pandas.io.json import json_normalize # tranform JSON file into a pandas dataframe\n\n# Matplotlib and associated plotting modules\nimport matplotlib.cm as cm\nimport matplotlib.colors as colors\n\n# import k-means from clustering stage\nfrom sklearn.cluster import KMeans\n\n!conda install -c conda-forge folium=0.5.0 --yes \nimport folium # map rendering library\n\nprint('Libraries imported.')"
        },
        {
            "cell_type": "markdown",
            "metadata": {},
            "source": "## Part I - Importing and scrabing data from the local administration of Milan"
        },
        {
            "cell_type": "markdown",
            "metadata": {},
            "source": "Import the data containing the coordinates of the neighborhood of Milano:"
        },
        {
            "cell_type": "markdown",
            "metadata": {},
            "source": "Importing the data of streets and squares, and of demographic on neighborhoods:"
        },
        {
            "cell_type": "code",
            "execution_count": 13,
            "metadata": {},
            "outputs": [],
            "source": "# The code was removed by Watson Studio for sharing."
        },
        {
            "cell_type": "markdown",
            "metadata": {},
            "source": "Hier an example of the dataframe with the definition of 88 NIL Areas in Milano:"
        },
        {
            "cell_type": "code",
            "execution_count": 14,
            "metadata": {},
            "outputs": [
                {
                    "data": {
                        "text/html": "<div>\n<style scoped>\n    .dataframe tbody tr th:only-of-type {\n        vertical-align: middle;\n    }\n\n    .dataframe tbody tr th {\n        vertical-align: top;\n    }\n\n    .dataframe thead th {\n        text-align: right;\n    }\n</style>\n<table border=\"1\" class=\"dataframe\">\n  <thead>\n    <tr style=\"text-align: right;\">\n      <th></th>\n      <th>X</th>\n      <th>Y</th>\n      <th>FID_1</th>\n      <th>FID_1_1</th>\n      <th>ID_NIL</th>\n      <th>NIL</th>\n      <th>AreaHA</th>\n      <th>AreaMQ</th>\n    </tr>\n  </thead>\n  <tbody>\n    <tr>\n      <th>0</th>\n      <td>9.122746</td>\n      <td>45.520250</td>\n      <td>0</td>\n      <td>0</td>\n      <td>74</td>\n      <td>SACCO</td>\n      <td>70.84658</td>\n      <td>7.084658e+05</td>\n    </tr>\n    <tr>\n      <th>1</th>\n      <td>9.159979</td>\n      <td>45.526457</td>\n      <td>1</td>\n      <td>1</td>\n      <td>82</td>\n      <td>COMASINA</td>\n      <td>92.67346</td>\n      <td>9.267346e+05</td>\n    </tr>\n    <tr>\n      <th>2</th>\n      <td>9.121394</td>\n      <td>45.512246</td>\n      <td>2</td>\n      <td>2</td>\n      <td>75</td>\n      <td>STEPHENSON</td>\n      <td>56.00979</td>\n      <td>5.600979e+05</td>\n    </tr>\n    <tr>\n      <th>3</th>\n      <td>9.136299</td>\n      <td>45.487326</td>\n      <td>3</td>\n      <td>3</td>\n      <td>66</td>\n      <td>QT 8</td>\n      <td>102.44374</td>\n      <td>1.024437e+06</td>\n    </tr>\n    <tr>\n      <th>4</th>\n      <td>9.230270</td>\n      <td>45.453417</td>\n      <td>4</td>\n      <td>4</td>\n      <td>29</td>\n      <td>ORTOMERCATO</td>\n      <td>140.25196</td>\n      <td>1.402520e+06</td>\n    </tr>\n  </tbody>\n</table>\n</div>",
                        "text/plain": "          X          Y  FID_1  FID_1_1  ID_NIL          NIL     AreaHA  \\\n0  9.122746  45.520250      0        0      74        SACCO   70.84658   \n1  9.159979  45.526457      1        1      82     COMASINA   92.67346   \n2  9.121394  45.512246      2        2      75   STEPHENSON   56.00979   \n3  9.136299  45.487326      3        3      66         QT 8  102.44374   \n4  9.230270  45.453417      4        4      29  ORTOMERCATO  140.25196   \n\n         AreaMQ  \n0  7.084658e+05  \n1  9.267346e+05  \n2  5.600979e+05  \n3  1.024437e+06  \n4  1.402520e+06  "
                    },
                    "execution_count": 14,
                    "metadata": {},
                    "output_type": "execute_result"
                }
            ],
            "source": "df_data_neigh.head()"
        },
        {
            "cell_type": "code",
            "execution_count": 15,
            "metadata": {},
            "outputs": [
                {
                    "data": {
                        "text/html": "<div>\n<style scoped>\n    .dataframe tbody tr th:only-of-type {\n        vertical-align: middle;\n    }\n\n    .dataframe tbody tr th {\n        vertical-align: top;\n    }\n\n    .dataframe thead th {\n        text-align: right;\n    }\n</style>\n<table border=\"1\" class=\"dataframe\">\n  <thead>\n    <tr style=\"text-align: right;\">\n      <th></th>\n      <th>X</th>\n      <th>Y</th>\n      <th>ID_NIL</th>\n      <th>NIL</th>\n      <th>AreaHA</th>\n      <th>AreaMQ</th>\n    </tr>\n  </thead>\n  <tbody>\n    <tr>\n      <th>0</th>\n      <td>9.122746</td>\n      <td>45.520250</td>\n      <td>74</td>\n      <td>SACCO</td>\n      <td>70.84658</td>\n      <td>7.084658e+05</td>\n    </tr>\n    <tr>\n      <th>1</th>\n      <td>9.159979</td>\n      <td>45.526457</td>\n      <td>82</td>\n      <td>COMASINA</td>\n      <td>92.67346</td>\n      <td>9.267346e+05</td>\n    </tr>\n    <tr>\n      <th>2</th>\n      <td>9.121394</td>\n      <td>45.512246</td>\n      <td>75</td>\n      <td>STEPHENSON</td>\n      <td>56.00979</td>\n      <td>5.600979e+05</td>\n    </tr>\n    <tr>\n      <th>3</th>\n      <td>9.136299</td>\n      <td>45.487326</td>\n      <td>66</td>\n      <td>QT 8</td>\n      <td>102.44374</td>\n      <td>1.024437e+06</td>\n    </tr>\n    <tr>\n      <th>4</th>\n      <td>9.230270</td>\n      <td>45.453417</td>\n      <td>29</td>\n      <td>ORTOMERCATO</td>\n      <td>140.25196</td>\n      <td>1.402520e+06</td>\n    </tr>\n  </tbody>\n</table>\n</div>",
                        "text/plain": "          X          Y  ID_NIL          NIL     AreaHA        AreaMQ\n0  9.122746  45.520250      74        SACCO   70.84658  7.084658e+05\n1  9.159979  45.526457      82     COMASINA   92.67346  9.267346e+05\n2  9.121394  45.512246      75   STEPHENSON   56.00979  5.600979e+05\n3  9.136299  45.487326      66         QT 8  102.44374  1.024437e+06\n4  9.230270  45.453417      29  ORTOMERCATO  140.25196  1.402520e+06"
                    },
                    "execution_count": 15,
                    "metadata": {},
                    "output_type": "execute_result"
                }
            ],
            "source": "df_data_neigh=df_data_neigh.drop(columns=['FID_1', 'FID_1_1'])\ndf_data_neigh.head()"
        },
        {
            "cell_type": "code",
            "execution_count": 16,
            "metadata": {},
            "outputs": [
                {
                    "data": {
                        "text/plain": "(88, 6)"
                    },
                    "execution_count": 16,
                    "metadata": {},
                    "output_type": "execute_result"
                }
            ],
            "source": "df_data_neigh.shape"
        },
        {
            "cell_type": "code",
            "execution_count": null,
            "metadata": {},
            "outputs": [],
            "source": "indir='http://dati.comune.milano.it/dataset/5c6519f6-6d26-41c9-b53b-6106e08d1b90/resource/533b4e63-3d78-4bb5-aeb4-6c5f648f7f21/download/ds634_civici_coordinategeografiche_20200107_csv.zip'\ndf_indir = pd.read_csv(indir, sep=\";\")"
        },
        {
            "cell_type": "code",
            "execution_count": 19,
            "metadata": {},
            "outputs": [
                {
                    "data": {
                        "text/html": "<div>\n<style scoped>\n    .dataframe tbody tr th:only-of-type {\n        vertical-align: middle;\n    }\n\n    .dataframe tbody tr th {\n        vertical-align: top;\n    }\n\n    .dataframe thead th {\n        text-align: right;\n    }\n</style>\n<table border=\"1\" class=\"dataframe\">\n  <thead>\n    <tr style=\"text-align: right;\">\n      <th></th>\n      <th>CODICE_VIA</th>\n      <th>STATO</th>\n      <th>TIPO</th>\n      <th>DENOMINAZIONE</th>\n      <th>DATA_INTITOLAZIONE</th>\n      <th>ANNO_SOPPRESSIONE</th>\n      <th>DESCRITTIVO</th>\n      <th>ANNCSU</th>\n      <th>OPENSTREETMAP</th>\n      <th>PROGANNCSU</th>\n      <th>...</th>\n      <th>DATA_MODFINE</th>\n      <th>IDMASTER</th>\n      <th>PASSOCARRAIO</th>\n      <th>LIVELLO</th>\n      <th>CAP</th>\n      <th>ID_NIL</th>\n      <th>NIL</th>\n      <th>LONG_WGS84</th>\n      <th>LAT_WGS84</th>\n      <th>Location</th>\n    </tr>\n  </thead>\n  <tbody>\n    <tr>\n      <th>0</th>\n      <td>1</td>\n      <td>Attiva</td>\n      <td>Piazza</td>\n      <td>DUOMO (DEL)</td>\n      <td>17000101.0</td>\n      <td>0.0</td>\n      <td>DEL DUOMO</td>\n      <td>DEL DUOMO</td>\n      <td>DEL DUOMO</td>\n      <td>NaN</td>\n      <td>...</td>\n      <td>0</td>\n      <td>231315</td>\n      <td>0.0</td>\n      <td>A raso</td>\n      <td>NaN</td>\n      <td>NaN</td>\n      <td>NaN</td>\n      <td>9.189375</td>\n      <td>45.464847</td>\n      <td>45.4648471777, 9.1893750655</td>\n    </tr>\n    <tr>\n      <th>1</th>\n      <td>1</td>\n      <td>Attiva</td>\n      <td>Piazza</td>\n      <td>DUOMO (DEL)</td>\n      <td>17000101.0</td>\n      <td>0.0</td>\n      <td>DEL DUOMO</td>\n      <td>DEL DUOMO</td>\n      <td>DEL DUOMO</td>\n      <td>NaN</td>\n      <td>...</td>\n      <td>0</td>\n      <td>12</td>\n      <td>0.0</td>\n      <td>A raso</td>\n      <td>20121.0</td>\n      <td>1.0</td>\n      <td>DUOMO</td>\n      <td>9.189250</td>\n      <td>45.464862</td>\n      <td>45.4648624969, 9.18925000834</td>\n    </tr>\n    <tr>\n      <th>2</th>\n      <td>1</td>\n      <td>Attiva</td>\n      <td>Piazza</td>\n      <td>DUOMO (DEL)</td>\n      <td>17000101.0</td>\n      <td>0.0</td>\n      <td>DEL DUOMO</td>\n      <td>DEL DUOMO</td>\n      <td>DEL DUOMO</td>\n      <td>NaN</td>\n      <td>...</td>\n      <td>0</td>\n      <td>231259</td>\n      <td>0.0</td>\n      <td>A raso</td>\n      <td>NaN</td>\n      <td>NaN</td>\n      <td>NaN</td>\n      <td>9.189836</td>\n      <td>45.464845</td>\n      <td>45.4648445278, 9.18983625158</td>\n    </tr>\n    <tr>\n      <th>3</th>\n      <td>1</td>\n      <td>Attiva</td>\n      <td>Piazza</td>\n      <td>DUOMO (DEL)</td>\n      <td>17000101.0</td>\n      <td>0.0</td>\n      <td>DEL DUOMO</td>\n      <td>DEL DUOMO</td>\n      <td>DEL DUOMO</td>\n      <td>NaN</td>\n      <td>...</td>\n      <td>0</td>\n      <td>231322</td>\n      <td>0.0</td>\n      <td>A raso</td>\n      <td>NaN</td>\n      <td>NaN</td>\n      <td>NaN</td>\n      <td>9.189483</td>\n      <td>45.464847</td>\n      <td>45.4648471532, 9.18948344275</td>\n    </tr>\n    <tr>\n      <th>4</th>\n      <td>1</td>\n      <td>Attiva</td>\n      <td>Piazza</td>\n      <td>DUOMO (DEL)</td>\n      <td>17000101.0</td>\n      <td>0.0</td>\n      <td>DEL DUOMO</td>\n      <td>DEL DUOMO</td>\n      <td>DEL DUOMO</td>\n      <td>NaN</td>\n      <td>...</td>\n      <td>0</td>\n      <td>231314</td>\n      <td>0.0</td>\n      <td>A raso</td>\n      <td>NaN</td>\n      <td>NaN</td>\n      <td>NaN</td>\n      <td>9.189314</td>\n      <td>45.464846</td>\n      <td>45.4648464236, 9.18931409415</td>\n    </tr>\n  </tbody>\n</table>\n<p>5 rows \u00d7 37 columns</p>\n</div>",
                        "text/plain": "   CODICE_VIA   STATO    TIPO DENOMINAZIONE  DATA_INTITOLAZIONE  \\\n0           1  Attiva  Piazza   DUOMO (DEL)          17000101.0   \n1           1  Attiva  Piazza   DUOMO (DEL)          17000101.0   \n2           1  Attiva  Piazza   DUOMO (DEL)          17000101.0   \n3           1  Attiva  Piazza   DUOMO (DEL)          17000101.0   \n4           1  Attiva  Piazza   DUOMO (DEL)          17000101.0   \n\n   ANNO_SOPPRESSIONE DESCRITTIVO     ANNCSU OPENSTREETMAP  PROGANNCSU  ...  \\\n0                0.0   DEL DUOMO  DEL DUOMO     DEL DUOMO         NaN  ...   \n1                0.0   DEL DUOMO  DEL DUOMO     DEL DUOMO         NaN  ...   \n2                0.0   DEL DUOMO  DEL DUOMO     DEL DUOMO         NaN  ...   \n3                0.0   DEL DUOMO  DEL DUOMO     DEL DUOMO         NaN  ...   \n4                0.0   DEL DUOMO  DEL DUOMO     DEL DUOMO         NaN  ...   \n\n   DATA_MODFINE IDMASTER PASSOCARRAIO LIVELLO      CAP  ID_NIL    NIL  \\\n0             0   231315          0.0  A raso      NaN     NaN    NaN   \n1             0       12          0.0  A raso  20121.0     1.0  DUOMO   \n2             0   231259          0.0  A raso      NaN     NaN    NaN   \n3             0   231322          0.0  A raso      NaN     NaN    NaN   \n4             0   231314          0.0  A raso      NaN     NaN    NaN   \n\n   LONG_WGS84  LAT_WGS84                      Location  \n0    9.189375  45.464847   45.4648471777, 9.1893750655  \n1    9.189250  45.464862  45.4648624969, 9.18925000834  \n2    9.189836  45.464845  45.4648445278, 9.18983625158  \n3    9.189483  45.464847  45.4648471532, 9.18948344275  \n4    9.189314  45.464846  45.4648464236, 9.18931409415  \n\n[5 rows x 37 columns]"
                    },
                    "execution_count": 19,
                    "metadata": {},
                    "output_type": "execute_result"
                }
            ],
            "source": "df_indir.head()"
        },
        {
            "cell_type": "code",
            "execution_count": 20,
            "metadata": {},
            "outputs": [
                {
                    "data": {
                        "text/html": "<div>\n<style scoped>\n    .dataframe tbody tr th:only-of-type {\n        vertical-align: middle;\n    }\n\n    .dataframe tbody tr th {\n        vertical-align: top;\n    }\n\n    .dataframe thead th {\n        text-align: right;\n    }\n</style>\n<table border=\"1\" class=\"dataframe\">\n  <thead>\n    <tr style=\"text-align: right;\">\n      <th></th>\n      <th>CODICE_VIA</th>\n      <th>STATO</th>\n      <th>TIPO</th>\n      <th>DENOMINAZIONE</th>\n      <th>DATA_INTITOLAZIONE</th>\n      <th>ANNO_SOPPRESSIONE</th>\n      <th>DESCRITTIVO</th>\n      <th>ANNCSU</th>\n      <th>OPENSTREETMAP</th>\n      <th>PROGANNCSU</th>\n      <th>...</th>\n      <th>WEBMERC_Y</th>\n      <th>DATA_MODFINE</th>\n      <th>IDMASTER</th>\n      <th>PASSOCARRAIO</th>\n      <th>LIVELLO</th>\n      <th>CAP</th>\n      <th>ID_NIL</th>\n      <th>LONG_WGS84</th>\n      <th>LAT_WGS84</th>\n      <th>Location</th>\n    </tr>\n  </thead>\n  <tbody>\n    <tr>\n      <th>0</th>\n      <td>1</td>\n      <td>Attiva</td>\n      <td>Piazza</td>\n      <td>DUOMO (DEL)</td>\n      <td>17000101.0</td>\n      <td>0.0</td>\n      <td>DEL DUOMO</td>\n      <td>DEL DUOMO</td>\n      <td>DEL DUOMO</td>\n      <td>NaN</td>\n      <td>...</td>\n      <td>5695001,4487</td>\n      <td>0</td>\n      <td>231315</td>\n      <td>0.0</td>\n      <td>A raso</td>\n      <td>NaN</td>\n      <td>NaN</td>\n      <td>9.189375</td>\n      <td>45.464847</td>\n      <td>45.4648471777, 9.1893750655</td>\n    </tr>\n    <tr>\n      <th>1</th>\n      <td>1</td>\n      <td>Attiva</td>\n      <td>Piazza</td>\n      <td>DUOMO (DEL)</td>\n      <td>17000101.0</td>\n      <td>0.0</td>\n      <td>DEL DUOMO</td>\n      <td>DEL DUOMO</td>\n      <td>DEL DUOMO</td>\n      <td>NaN</td>\n      <td>...</td>\n      <td>5695003,8802</td>\n      <td>0</td>\n      <td>12</td>\n      <td>0.0</td>\n      <td>A raso</td>\n      <td>20121.0</td>\n      <td>1.0</td>\n      <td>9.189250</td>\n      <td>45.464862</td>\n      <td>45.4648624969, 9.18925000834</td>\n    </tr>\n    <tr>\n      <th>2</th>\n      <td>1</td>\n      <td>Attiva</td>\n      <td>Piazza</td>\n      <td>DUOMO (DEL)</td>\n      <td>17000101.0</td>\n      <td>0.0</td>\n      <td>DEL DUOMO</td>\n      <td>DEL DUOMO</td>\n      <td>DEL DUOMO</td>\n      <td>NaN</td>\n      <td>...</td>\n      <td>5695001,0281</td>\n      <td>0</td>\n      <td>231259</td>\n      <td>0.0</td>\n      <td>A raso</td>\n      <td>NaN</td>\n      <td>NaN</td>\n      <td>9.189836</td>\n      <td>45.464845</td>\n      <td>45.4648445278, 9.18983625158</td>\n    </tr>\n    <tr>\n      <th>3</th>\n      <td>1</td>\n      <td>Attiva</td>\n      <td>Piazza</td>\n      <td>DUOMO (DEL)</td>\n      <td>17000101.0</td>\n      <td>0.0</td>\n      <td>DEL DUOMO</td>\n      <td>DEL DUOMO</td>\n      <td>DEL DUOMO</td>\n      <td>NaN</td>\n      <td>...</td>\n      <td>5695001,4448</td>\n      <td>0</td>\n      <td>231322</td>\n      <td>0.0</td>\n      <td>A raso</td>\n      <td>NaN</td>\n      <td>NaN</td>\n      <td>9.189483</td>\n      <td>45.464847</td>\n      <td>45.4648471532, 9.18948344275</td>\n    </tr>\n    <tr>\n      <th>4</th>\n      <td>1</td>\n      <td>Attiva</td>\n      <td>Piazza</td>\n      <td>DUOMO (DEL)</td>\n      <td>17000101.0</td>\n      <td>0.0</td>\n      <td>DEL DUOMO</td>\n      <td>DEL DUOMO</td>\n      <td>DEL DUOMO</td>\n      <td>NaN</td>\n      <td>...</td>\n      <td>5695001,329</td>\n      <td>0</td>\n      <td>231314</td>\n      <td>0.0</td>\n      <td>A raso</td>\n      <td>NaN</td>\n      <td>NaN</td>\n      <td>9.189314</td>\n      <td>45.464846</td>\n      <td>45.4648464236, 9.18931409415</td>\n    </tr>\n  </tbody>\n</table>\n<p>5 rows \u00d7 36 columns</p>\n</div>",
                        "text/plain": "   CODICE_VIA   STATO    TIPO DENOMINAZIONE  DATA_INTITOLAZIONE  \\\n0           1  Attiva  Piazza   DUOMO (DEL)          17000101.0   \n1           1  Attiva  Piazza   DUOMO (DEL)          17000101.0   \n2           1  Attiva  Piazza   DUOMO (DEL)          17000101.0   \n3           1  Attiva  Piazza   DUOMO (DEL)          17000101.0   \n4           1  Attiva  Piazza   DUOMO (DEL)          17000101.0   \n\n   ANNO_SOPPRESSIONE DESCRITTIVO     ANNCSU OPENSTREETMAP  PROGANNCSU  ...  \\\n0                0.0   DEL DUOMO  DEL DUOMO     DEL DUOMO         NaN  ...   \n1                0.0   DEL DUOMO  DEL DUOMO     DEL DUOMO         NaN  ...   \n2                0.0   DEL DUOMO  DEL DUOMO     DEL DUOMO         NaN  ...   \n3                0.0   DEL DUOMO  DEL DUOMO     DEL DUOMO         NaN  ...   \n4                0.0   DEL DUOMO  DEL DUOMO     DEL DUOMO         NaN  ...   \n\n      WEBMERC_Y DATA_MODFINE IDMASTER PASSOCARRAIO  LIVELLO      CAP ID_NIL  \\\n0  5695001,4487            0   231315          0.0   A raso      NaN    NaN   \n1  5695003,8802            0       12          0.0   A raso  20121.0    1.0   \n2  5695001,0281            0   231259          0.0   A raso      NaN    NaN   \n3  5695001,4448            0   231322          0.0   A raso      NaN    NaN   \n4   5695001,329            0   231314          0.0   A raso      NaN    NaN   \n\n   LONG_WGS84  LAT_WGS84                      Location  \n0    9.189375  45.464847   45.4648471777, 9.1893750655  \n1    9.189250  45.464862  45.4648624969, 9.18925000834  \n2    9.189836  45.464845  45.4648445278, 9.18983625158  \n3    9.189483  45.464847  45.4648471532, 9.18948344275  \n4    9.189314  45.464846  45.4648464236, 9.18931409415  \n\n[5 rows x 36 columns]"
                    },
                    "execution_count": 20,
                    "metadata": {},
                    "output_type": "execute_result"
                }
            ],
            "source": "df_indir=df_indir.drop(columns=['NIL'], axis=1)\ndf_indir.head()"
        },
        {
            "cell_type": "code",
            "execution_count": 21,
            "metadata": {},
            "outputs": [
                {
                    "data": {
                        "text/html": "<div>\n<style scoped>\n    .dataframe tbody tr th:only-of-type {\n        vertical-align: middle;\n    }\n\n    .dataframe tbody tr th {\n        vertical-align: top;\n    }\n\n    .dataframe thead th {\n        text-align: right;\n    }\n</style>\n<table border=\"1\" class=\"dataframe\">\n  <thead>\n    <tr style=\"text-align: right;\">\n      <th></th>\n      <th>CODICE_VIA</th>\n      <th>STATO</th>\n      <th>TIPO</th>\n      <th>DENOMINAZIONE</th>\n      <th>DATA_INTITOLAZIONE</th>\n      <th>ANNO_SOPPRESSIONE</th>\n      <th>DESCRITTIVO</th>\n      <th>ANNCSU</th>\n      <th>OPENSTREETMAP</th>\n      <th>PROGANNCSU</th>\n      <th>...</th>\n      <th>CAP</th>\n      <th>ID_NIL</th>\n      <th>LONG_WGS84</th>\n      <th>LAT_WGS84</th>\n      <th>Location</th>\n      <th>X</th>\n      <th>Y</th>\n      <th>NIL</th>\n      <th>AreaHA</th>\n      <th>AreaMQ</th>\n    </tr>\n  </thead>\n  <tbody>\n    <tr>\n      <th>0</th>\n      <td>1</td>\n      <td>Attiva</td>\n      <td>Piazza</td>\n      <td>DUOMO (DEL)</td>\n      <td>17000101.0</td>\n      <td>0.0</td>\n      <td>DEL DUOMO</td>\n      <td>DEL DUOMO</td>\n      <td>DEL DUOMO</td>\n      <td>NaN</td>\n      <td>...</td>\n      <td>NaN</td>\n      <td>NaN</td>\n      <td>9.189375</td>\n      <td>45.464847</td>\n      <td>45.4648471777, 9.1893750655</td>\n      <td>NaN</td>\n      <td>NaN</td>\n      <td>NaN</td>\n      <td>NaN</td>\n      <td>NaN</td>\n    </tr>\n    <tr>\n      <th>1</th>\n      <td>1</td>\n      <td>Attiva</td>\n      <td>Piazza</td>\n      <td>DUOMO (DEL)</td>\n      <td>17000101.0</td>\n      <td>0.0</td>\n      <td>DEL DUOMO</td>\n      <td>DEL DUOMO</td>\n      <td>DEL DUOMO</td>\n      <td>NaN</td>\n      <td>...</td>\n      <td>20121.0</td>\n      <td>1.0</td>\n      <td>9.189250</td>\n      <td>45.464862</td>\n      <td>45.4648624969, 9.18925000834</td>\n      <td>9.186948</td>\n      <td>45.463707</td>\n      <td>DUOMO</td>\n      <td>234.17041</td>\n      <td>2.341704e+06</td>\n    </tr>\n    <tr>\n      <th>2</th>\n      <td>1</td>\n      <td>Attiva</td>\n      <td>Piazza</td>\n      <td>DUOMO (DEL)</td>\n      <td>17000101.0</td>\n      <td>0.0</td>\n      <td>DEL DUOMO</td>\n      <td>DEL DUOMO</td>\n      <td>DEL DUOMO</td>\n      <td>NaN</td>\n      <td>...</td>\n      <td>NaN</td>\n      <td>NaN</td>\n      <td>9.189836</td>\n      <td>45.464845</td>\n      <td>45.4648445278, 9.18983625158</td>\n      <td>NaN</td>\n      <td>NaN</td>\n      <td>NaN</td>\n      <td>NaN</td>\n      <td>NaN</td>\n    </tr>\n    <tr>\n      <th>3</th>\n      <td>1</td>\n      <td>Attiva</td>\n      <td>Piazza</td>\n      <td>DUOMO (DEL)</td>\n      <td>17000101.0</td>\n      <td>0.0</td>\n      <td>DEL DUOMO</td>\n      <td>DEL DUOMO</td>\n      <td>DEL DUOMO</td>\n      <td>NaN</td>\n      <td>...</td>\n      <td>NaN</td>\n      <td>NaN</td>\n      <td>9.189483</td>\n      <td>45.464847</td>\n      <td>45.4648471532, 9.18948344275</td>\n      <td>NaN</td>\n      <td>NaN</td>\n      <td>NaN</td>\n      <td>NaN</td>\n      <td>NaN</td>\n    </tr>\n    <tr>\n      <th>4</th>\n      <td>1</td>\n      <td>Attiva</td>\n      <td>Piazza</td>\n      <td>DUOMO (DEL)</td>\n      <td>17000101.0</td>\n      <td>0.0</td>\n      <td>DEL DUOMO</td>\n      <td>DEL DUOMO</td>\n      <td>DEL DUOMO</td>\n      <td>NaN</td>\n      <td>...</td>\n      <td>NaN</td>\n      <td>NaN</td>\n      <td>9.189314</td>\n      <td>45.464846</td>\n      <td>45.4648464236, 9.18931409415</td>\n      <td>NaN</td>\n      <td>NaN</td>\n      <td>NaN</td>\n      <td>NaN</td>\n      <td>NaN</td>\n    </tr>\n  </tbody>\n</table>\n<p>5 rows \u00d7 41 columns</p>\n</div>",
                        "text/plain": "   CODICE_VIA   STATO    TIPO DENOMINAZIONE  DATA_INTITOLAZIONE  \\\n0           1  Attiva  Piazza   DUOMO (DEL)          17000101.0   \n1           1  Attiva  Piazza   DUOMO (DEL)          17000101.0   \n2           1  Attiva  Piazza   DUOMO (DEL)          17000101.0   \n3           1  Attiva  Piazza   DUOMO (DEL)          17000101.0   \n4           1  Attiva  Piazza   DUOMO (DEL)          17000101.0   \n\n   ANNO_SOPPRESSIONE DESCRITTIVO     ANNCSU OPENSTREETMAP  PROGANNCSU  ...  \\\n0                0.0   DEL DUOMO  DEL DUOMO     DEL DUOMO         NaN  ...   \n1                0.0   DEL DUOMO  DEL DUOMO     DEL DUOMO         NaN  ...   \n2                0.0   DEL DUOMO  DEL DUOMO     DEL DUOMO         NaN  ...   \n3                0.0   DEL DUOMO  DEL DUOMO     DEL DUOMO         NaN  ...   \n4                0.0   DEL DUOMO  DEL DUOMO     DEL DUOMO         NaN  ...   \n\n       CAP ID_NIL LONG_WGS84  LAT_WGS84                      Location  \\\n0      NaN    NaN   9.189375  45.464847   45.4648471777, 9.1893750655   \n1  20121.0    1.0   9.189250  45.464862  45.4648624969, 9.18925000834   \n2      NaN    NaN   9.189836  45.464845  45.4648445278, 9.18983625158   \n3      NaN    NaN   9.189483  45.464847  45.4648471532, 9.18948344275   \n4      NaN    NaN   9.189314  45.464846  45.4648464236, 9.18931409415   \n\n          X          Y    NIL     AreaHA        AreaMQ  \n0       NaN        NaN    NaN        NaN           NaN  \n1  9.186948  45.463707  DUOMO  234.17041  2.341704e+06  \n2       NaN        NaN    NaN        NaN           NaN  \n3       NaN        NaN    NaN        NaN           NaN  \n4       NaN        NaN    NaN        NaN           NaN  \n\n[5 rows x 41 columns]"
                    },
                    "execution_count": 21,
                    "metadata": {},
                    "output_type": "execute_result"
                }
            ],
            "source": "df_indir_ext=df_indir.join(df_data_neigh.set_index('ID_NIL'), on='ID_NIL')\ndf_indir_ext.head()"
        },
        {
            "cell_type": "code",
            "execution_count": 22,
            "metadata": {},
            "outputs": [
                {
                    "data": {
                        "text/plain": "(62793, 41)"
                    },
                    "execution_count": 22,
                    "metadata": {},
                    "output_type": "execute_result"
                }
            ],
            "source": "df_indir_ext.shape"
        },
        {
            "cell_type": "code",
            "execution_count": 23,
            "metadata": {},
            "outputs": [],
            "source": "df_focus=df_indir_ext[df_indir_ext['NIL'].str.contains('BUENOS')==True]"
        },
        {
            "cell_type": "code",
            "execution_count": 24,
            "metadata": {},
            "outputs": [
                {
                    "data": {
                        "text/html": "<div>\n<style scoped>\n    .dataframe tbody tr th:only-of-type {\n        vertical-align: middle;\n    }\n\n    .dataframe tbody tr th {\n        vertical-align: top;\n    }\n\n    .dataframe thead th {\n        text-align: right;\n    }\n</style>\n<table border=\"1\" class=\"dataframe\">\n  <thead>\n    <tr style=\"text-align: right;\">\n      <th></th>\n      <th>CODICE_VIA</th>\n      <th>STATO</th>\n      <th>TIPO</th>\n      <th>DENOMINAZIONE</th>\n      <th>DATA_INTITOLAZIONE</th>\n      <th>ANNO_SOPPRESSIONE</th>\n      <th>DESCRITTIVO</th>\n      <th>ANNCSU</th>\n      <th>OPENSTREETMAP</th>\n      <th>PROGANNCSU</th>\n      <th>...</th>\n      <th>CAP</th>\n      <th>ID_NIL</th>\n      <th>LONG_WGS84</th>\n      <th>LAT_WGS84</th>\n      <th>Location</th>\n      <th>X</th>\n      <th>Y</th>\n      <th>NIL</th>\n      <th>AreaHA</th>\n      <th>AreaMQ</th>\n    </tr>\n  </thead>\n  <tbody>\n    <tr>\n      <th>14939</th>\n      <td>2095</td>\n      <td>Attiva</td>\n      <td>Via</td>\n      <td>AMEDEO D'AOSTA</td>\n      <td>0.0</td>\n      <td>0.0</td>\n      <td>AMEDEO D'AOSTA</td>\n      <td>AMEDEO D'AOSTA</td>\n      <td>AMEDEO D'AOSTA</td>\n      <td>NaN</td>\n      <td>...</td>\n      <td>20129.0</td>\n      <td>21.0</td>\n      <td>9.217854</td>\n      <td>45.475205</td>\n      <td>45.4752047823, 9.21785389052</td>\n      <td>9.214489</td>\n      <td>45.477025</td>\n      <td>BUENOS AIRES - VENEZIA</td>\n      <td>287.75423</td>\n      <td>2.877542e+06</td>\n    </tr>\n    <tr>\n      <th>14940</th>\n      <td>2095</td>\n      <td>Attiva</td>\n      <td>Via</td>\n      <td>AMEDEO D'AOSTA</td>\n      <td>0.0</td>\n      <td>0.0</td>\n      <td>AMEDEO D'AOSTA</td>\n      <td>AMEDEO D'AOSTA</td>\n      <td>AMEDEO D'AOSTA</td>\n      <td>NaN</td>\n      <td>...</td>\n      <td>20129.0</td>\n      <td>21.0</td>\n      <td>9.218323</td>\n      <td>45.474960</td>\n      <td>45.4749601462, 9.2183230276</td>\n      <td>9.214489</td>\n      <td>45.477025</td>\n      <td>BUENOS AIRES - VENEZIA</td>\n      <td>287.75423</td>\n      <td>2.877542e+06</td>\n    </tr>\n    <tr>\n      <th>14941</th>\n      <td>2095</td>\n      <td>Attiva</td>\n      <td>Via</td>\n      <td>AMEDEO D'AOSTA</td>\n      <td>0.0</td>\n      <td>0.0</td>\n      <td>AMEDEO D'AOSTA</td>\n      <td>AMEDEO D'AOSTA</td>\n      <td>AMEDEO D'AOSTA</td>\n      <td>NaN</td>\n      <td>...</td>\n      <td>20129.0</td>\n      <td>21.0</td>\n      <td>9.218348</td>\n      <td>45.475772</td>\n      <td>45.4757722368, 9.21834803759</td>\n      <td>9.214489</td>\n      <td>45.477025</td>\n      <td>BUENOS AIRES - VENEZIA</td>\n      <td>287.75423</td>\n      <td>2.877542e+06</td>\n    </tr>\n    <tr>\n      <th>14942</th>\n      <td>2095</td>\n      <td>Attiva</td>\n      <td>Via</td>\n      <td>AMEDEO D'AOSTA</td>\n      <td>0.0</td>\n      <td>0.0</td>\n      <td>AMEDEO D'AOSTA</td>\n      <td>AMEDEO D'AOSTA</td>\n      <td>AMEDEO D'AOSTA</td>\n      <td>NaN</td>\n      <td>...</td>\n      <td>20129.0</td>\n      <td>21.0</td>\n      <td>9.218318</td>\n      <td>45.475249</td>\n      <td>45.4752486804, 9.21831817759</td>\n      <td>9.214489</td>\n      <td>45.477025</td>\n      <td>BUENOS AIRES - VENEZIA</td>\n      <td>287.75423</td>\n      <td>2.877542e+06</td>\n    </tr>\n    <tr>\n      <th>14943</th>\n      <td>2095</td>\n      <td>Attiva</td>\n      <td>Via</td>\n      <td>AMEDEO D'AOSTA</td>\n      <td>0.0</td>\n      <td>0.0</td>\n      <td>AMEDEO D'AOSTA</td>\n      <td>AMEDEO D'AOSTA</td>\n      <td>AMEDEO D'AOSTA</td>\n      <td>NaN</td>\n      <td>...</td>\n      <td>20129.0</td>\n      <td>21.0</td>\n      <td>9.217720</td>\n      <td>45.475205</td>\n      <td>45.4752050374, 9.21771972354</td>\n      <td>9.214489</td>\n      <td>45.477025</td>\n      <td>BUENOS AIRES - VENEZIA</td>\n      <td>287.75423</td>\n      <td>2.877542e+06</td>\n    </tr>\n  </tbody>\n</table>\n<p>5 rows \u00d7 41 columns</p>\n</div>",
                        "text/plain": "       CODICE_VIA   STATO TIPO   DENOMINAZIONE  DATA_INTITOLAZIONE  \\\n14939        2095  Attiva  Via  AMEDEO D'AOSTA                 0.0   \n14940        2095  Attiva  Via  AMEDEO D'AOSTA                 0.0   \n14941        2095  Attiva  Via  AMEDEO D'AOSTA                 0.0   \n14942        2095  Attiva  Via  AMEDEO D'AOSTA                 0.0   \n14943        2095  Attiva  Via  AMEDEO D'AOSTA                 0.0   \n\n       ANNO_SOPPRESSIONE     DESCRITTIVO          ANNCSU   OPENSTREETMAP  \\\n14939                0.0  AMEDEO D'AOSTA  AMEDEO D'AOSTA  AMEDEO D'AOSTA   \n14940                0.0  AMEDEO D'AOSTA  AMEDEO D'AOSTA  AMEDEO D'AOSTA   \n14941                0.0  AMEDEO D'AOSTA  AMEDEO D'AOSTA  AMEDEO D'AOSTA   \n14942                0.0  AMEDEO D'AOSTA  AMEDEO D'AOSTA  AMEDEO D'AOSTA   \n14943                0.0  AMEDEO D'AOSTA  AMEDEO D'AOSTA  AMEDEO D'AOSTA   \n\n       PROGANNCSU  ...      CAP ID_NIL LONG_WGS84  LAT_WGS84  \\\n14939         NaN  ...  20129.0   21.0   9.217854  45.475205   \n14940         NaN  ...  20129.0   21.0   9.218323  45.474960   \n14941         NaN  ...  20129.0   21.0   9.218348  45.475772   \n14942         NaN  ...  20129.0   21.0   9.218318  45.475249   \n14943         NaN  ...  20129.0   21.0   9.217720  45.475205   \n\n                           Location         X          Y  \\\n14939  45.4752047823, 9.21785389052  9.214489  45.477025   \n14940   45.4749601462, 9.2183230276  9.214489  45.477025   \n14941  45.4757722368, 9.21834803759  9.214489  45.477025   \n14942  45.4752486804, 9.21831817759  9.214489  45.477025   \n14943  45.4752050374, 9.21771972354  9.214489  45.477025   \n\n                          NIL     AreaHA        AreaMQ  \n14939  BUENOS AIRES - VENEZIA  287.75423  2.877542e+06  \n14940  BUENOS AIRES - VENEZIA  287.75423  2.877542e+06  \n14941  BUENOS AIRES - VENEZIA  287.75423  2.877542e+06  \n14942  BUENOS AIRES - VENEZIA  287.75423  2.877542e+06  \n14943  BUENOS AIRES - VENEZIA  287.75423  2.877542e+06  \n\n[5 rows x 41 columns]"
                    },
                    "execution_count": 24,
                    "metadata": {},
                    "output_type": "execute_result"
                }
            ],
            "source": "df_focus.head()"
        },
        {
            "cell_type": "code",
            "execution_count": 25,
            "metadata": {},
            "outputs": [],
            "source": "ADR=df_focus['TIPO']+\" \"+df_focus['DESCRITTIVO']+\" \"+df_focus['NUMERO'].astype(str)\ndf_focus.insert(2, \"ADRESS\", ADR, True)"
        },
        {
            "cell_type": "code",
            "execution_count": 26,
            "metadata": {},
            "outputs": [
                {
                    "data": {
                        "text/html": "<div>\n<style scoped>\n    .dataframe tbody tr th:only-of-type {\n        vertical-align: middle;\n    }\n\n    .dataframe tbody tr th {\n        vertical-align: top;\n    }\n\n    .dataframe thead th {\n        text-align: right;\n    }\n</style>\n<table border=\"1\" class=\"dataframe\">\n  <thead>\n    <tr style=\"text-align: right;\">\n      <th></th>\n      <th>CODICE_VIA</th>\n      <th>STATO</th>\n      <th>ADRESS</th>\n      <th>TIPO</th>\n      <th>DENOMINAZIONE</th>\n      <th>DATA_INTITOLAZIONE</th>\n      <th>ANNO_SOPPRESSIONE</th>\n      <th>DESCRITTIVO</th>\n      <th>ANNCSU</th>\n      <th>OPENSTREETMAP</th>\n      <th>...</th>\n      <th>CAP</th>\n      <th>ID_NIL</th>\n      <th>LONG_WGS84</th>\n      <th>LAT_WGS84</th>\n      <th>Location</th>\n      <th>X</th>\n      <th>Y</th>\n      <th>NIL</th>\n      <th>AreaHA</th>\n      <th>AreaMQ</th>\n    </tr>\n  </thead>\n  <tbody>\n    <tr>\n      <th>14939</th>\n      <td>2095</td>\n      <td>Attiva</td>\n      <td>Via AMEDEO D'AOSTA 11</td>\n      <td>Via</td>\n      <td>AMEDEO D'AOSTA</td>\n      <td>0.0</td>\n      <td>0.0</td>\n      <td>AMEDEO D'AOSTA</td>\n      <td>AMEDEO D'AOSTA</td>\n      <td>AMEDEO D'AOSTA</td>\n      <td>...</td>\n      <td>20129.0</td>\n      <td>21.0</td>\n      <td>9.217854</td>\n      <td>45.475205</td>\n      <td>45.4752047823, 9.21785389052</td>\n      <td>9.214489</td>\n      <td>45.477025</td>\n      <td>BUENOS AIRES - VENEZIA</td>\n      <td>287.75423</td>\n      <td>2.877542e+06</td>\n    </tr>\n    <tr>\n      <th>14940</th>\n      <td>2095</td>\n      <td>Attiva</td>\n      <td>Via AMEDEO D'AOSTA 6</td>\n      <td>Via</td>\n      <td>AMEDEO D'AOSTA</td>\n      <td>0.0</td>\n      <td>0.0</td>\n      <td>AMEDEO D'AOSTA</td>\n      <td>AMEDEO D'AOSTA</td>\n      <td>AMEDEO D'AOSTA</td>\n      <td>...</td>\n      <td>20129.0</td>\n      <td>21.0</td>\n      <td>9.218323</td>\n      <td>45.474960</td>\n      <td>45.4749601462, 9.2183230276</td>\n      <td>9.214489</td>\n      <td>45.477025</td>\n      <td>BUENOS AIRES - VENEZIA</td>\n      <td>287.75423</td>\n      <td>2.877542e+06</td>\n    </tr>\n    <tr>\n      <th>14941</th>\n      <td>2095</td>\n      <td>Attiva</td>\n      <td>Via AMEDEO D'AOSTA 15</td>\n      <td>Via</td>\n      <td>AMEDEO D'AOSTA</td>\n      <td>0.0</td>\n      <td>0.0</td>\n      <td>AMEDEO D'AOSTA</td>\n      <td>AMEDEO D'AOSTA</td>\n      <td>AMEDEO D'AOSTA</td>\n      <td>...</td>\n      <td>20129.0</td>\n      <td>21.0</td>\n      <td>9.218348</td>\n      <td>45.475772</td>\n      <td>45.4757722368, 9.21834803759</td>\n      <td>9.214489</td>\n      <td>45.477025</td>\n      <td>BUENOS AIRES - VENEZIA</td>\n      <td>287.75423</td>\n      <td>2.877542e+06</td>\n    </tr>\n    <tr>\n      <th>14942</th>\n      <td>2095</td>\n      <td>Attiva</td>\n      <td>Via AMEDEO D'AOSTA 8</td>\n      <td>Via</td>\n      <td>AMEDEO D'AOSTA</td>\n      <td>0.0</td>\n      <td>0.0</td>\n      <td>AMEDEO D'AOSTA</td>\n      <td>AMEDEO D'AOSTA</td>\n      <td>AMEDEO D'AOSTA</td>\n      <td>...</td>\n      <td>20129.0</td>\n      <td>21.0</td>\n      <td>9.218318</td>\n      <td>45.475249</td>\n      <td>45.4752486804, 9.21831817759</td>\n      <td>9.214489</td>\n      <td>45.477025</td>\n      <td>BUENOS AIRES - VENEZIA</td>\n      <td>287.75423</td>\n      <td>2.877542e+06</td>\n    </tr>\n    <tr>\n      <th>14943</th>\n      <td>2095</td>\n      <td>Attiva</td>\n      <td>Via AMEDEO D'AOSTA 11</td>\n      <td>Via</td>\n      <td>AMEDEO D'AOSTA</td>\n      <td>0.0</td>\n      <td>0.0</td>\n      <td>AMEDEO D'AOSTA</td>\n      <td>AMEDEO D'AOSTA</td>\n      <td>AMEDEO D'AOSTA</td>\n      <td>...</td>\n      <td>20129.0</td>\n      <td>21.0</td>\n      <td>9.217720</td>\n      <td>45.475205</td>\n      <td>45.4752050374, 9.21771972354</td>\n      <td>9.214489</td>\n      <td>45.477025</td>\n      <td>BUENOS AIRES - VENEZIA</td>\n      <td>287.75423</td>\n      <td>2.877542e+06</td>\n    </tr>\n  </tbody>\n</table>\n<p>5 rows \u00d7 42 columns</p>\n</div>",
                        "text/plain": "       CODICE_VIA   STATO                 ADRESS TIPO   DENOMINAZIONE  \\\n14939        2095  Attiva  Via AMEDEO D'AOSTA 11  Via  AMEDEO D'AOSTA   \n14940        2095  Attiva   Via AMEDEO D'AOSTA 6  Via  AMEDEO D'AOSTA   \n14941        2095  Attiva  Via AMEDEO D'AOSTA 15  Via  AMEDEO D'AOSTA   \n14942        2095  Attiva   Via AMEDEO D'AOSTA 8  Via  AMEDEO D'AOSTA   \n14943        2095  Attiva  Via AMEDEO D'AOSTA 11  Via  AMEDEO D'AOSTA   \n\n       DATA_INTITOLAZIONE  ANNO_SOPPRESSIONE     DESCRITTIVO          ANNCSU  \\\n14939                 0.0                0.0  AMEDEO D'AOSTA  AMEDEO D'AOSTA   \n14940                 0.0                0.0  AMEDEO D'AOSTA  AMEDEO D'AOSTA   \n14941                 0.0                0.0  AMEDEO D'AOSTA  AMEDEO D'AOSTA   \n14942                 0.0                0.0  AMEDEO D'AOSTA  AMEDEO D'AOSTA   \n14943                 0.0                0.0  AMEDEO D'AOSTA  AMEDEO D'AOSTA   \n\n        OPENSTREETMAP  ...      CAP  ID_NIL LONG_WGS84  LAT_WGS84  \\\n14939  AMEDEO D'AOSTA  ...  20129.0    21.0   9.217854  45.475205   \n14940  AMEDEO D'AOSTA  ...  20129.0    21.0   9.218323  45.474960   \n14941  AMEDEO D'AOSTA  ...  20129.0    21.0   9.218348  45.475772   \n14942  AMEDEO D'AOSTA  ...  20129.0    21.0   9.218318  45.475249   \n14943  AMEDEO D'AOSTA  ...  20129.0    21.0   9.217720  45.475205   \n\n                           Location         X          Y  \\\n14939  45.4752047823, 9.21785389052  9.214489  45.477025   \n14940   45.4749601462, 9.2183230276  9.214489  45.477025   \n14941  45.4757722368, 9.21834803759  9.214489  45.477025   \n14942  45.4752486804, 9.21831817759  9.214489  45.477025   \n14943  45.4752050374, 9.21771972354  9.214489  45.477025   \n\n                          NIL     AreaHA        AreaMQ  \n14939  BUENOS AIRES - VENEZIA  287.75423  2.877542e+06  \n14940  BUENOS AIRES - VENEZIA  287.75423  2.877542e+06  \n14941  BUENOS AIRES - VENEZIA  287.75423  2.877542e+06  \n14942  BUENOS AIRES - VENEZIA  287.75423  2.877542e+06  \n14943  BUENOS AIRES - VENEZIA  287.75423  2.877542e+06  \n\n[5 rows x 42 columns]"
                    },
                    "execution_count": 26,
                    "metadata": {},
                    "output_type": "execute_result"
                }
            ],
            "source": "df_focus.head()"
        },
        {
            "cell_type": "code",
            "execution_count": 27,
            "metadata": {},
            "outputs": [],
            "source": "df_focus=df_focus[['ADRESS', 'NIL','LONG_WGS84','LAT_WGS84']]\ndf_focus.drop_duplicates(subset =\"ADRESS\", \n                     keep = False, inplace = True) \n"
        },
        {
            "cell_type": "markdown",
            "metadata": {},
            "source": "Hier an example of the dataframe combined between NIL definition and Adresses in the Area:"
        },
        {
            "cell_type": "code",
            "execution_count": 28,
            "metadata": {},
            "outputs": [
                {
                    "data": {
                        "text/html": "<div>\n<style scoped>\n    .dataframe tbody tr th:only-of-type {\n        vertical-align: middle;\n    }\n\n    .dataframe tbody tr th {\n        vertical-align: top;\n    }\n\n    .dataframe thead th {\n        text-align: right;\n    }\n</style>\n<table border=\"1\" class=\"dataframe\">\n  <thead>\n    <tr style=\"text-align: right;\">\n      <th></th>\n      <th>ADRESS</th>\n      <th>NIL</th>\n      <th>LONG_WGS84</th>\n      <th>LAT_WGS84</th>\n    </tr>\n  </thead>\n  <tbody>\n    <tr>\n      <th>14940</th>\n      <td>Via AMEDEO D'AOSTA 6</td>\n      <td>BUENOS AIRES - VENEZIA</td>\n      <td>9.218323</td>\n      <td>45.474960</td>\n    </tr>\n    <tr>\n      <th>14942</th>\n      <td>Via AMEDEO D'AOSTA 8</td>\n      <td>BUENOS AIRES - VENEZIA</td>\n      <td>9.218318</td>\n      <td>45.475249</td>\n    </tr>\n    <tr>\n      <th>14951</th>\n      <td>Via AMEDEO D'AOSTA 13</td>\n      <td>BUENOS AIRES - VENEZIA</td>\n      <td>9.218119</td>\n      <td>45.475452</td>\n    </tr>\n    <tr>\n      <th>14952</th>\n      <td>Via AMEDEO D'AOSTA 10</td>\n      <td>BUENOS AIRES - VENEZIA</td>\n      <td>9.218410</td>\n      <td>45.475447</td>\n    </tr>\n    <tr>\n      <th>14953</th>\n      <td>Via AMEDEO D'AOSTA 2</td>\n      <td>BUENOS AIRES - VENEZIA</td>\n      <td>9.218759</td>\n      <td>45.474509</td>\n    </tr>\n  </tbody>\n</table>\n</div>",
                        "text/plain": "                      ADRESS                     NIL  LONG_WGS84  LAT_WGS84\n14940   Via AMEDEO D'AOSTA 6  BUENOS AIRES - VENEZIA    9.218323  45.474960\n14942   Via AMEDEO D'AOSTA 8  BUENOS AIRES - VENEZIA    9.218318  45.475249\n14951  Via AMEDEO D'AOSTA 13  BUENOS AIRES - VENEZIA    9.218119  45.475452\n14952  Via AMEDEO D'AOSTA 10  BUENOS AIRES - VENEZIA    9.218410  45.475447\n14953   Via AMEDEO D'AOSTA 2  BUENOS AIRES - VENEZIA    9.218759  45.474509"
                    },
                    "execution_count": 28,
                    "metadata": {},
                    "output_type": "execute_result"
                }
            ],
            "source": "df_focus.head()"
        },
        {
            "cell_type": "code",
            "execution_count": 29,
            "metadata": {},
            "outputs": [],
            "source": "df_focus=df_focus.sample(100)"
        }
    ],
    "metadata": {
        "kernelspec": {
            "display_name": "Python 3.6",
            "language": "python",
            "name": "python3"
        },
        "language_info": {
            "codemirror_mode": {
                "name": "ipython",
                "version": 3
            },
            "file_extension": ".py",
            "mimetype": "text/x-python",
            "name": "python",
            "nbconvert_exporter": "python",
            "pygments_lexer": "ipython3",
            "version": "3.6.8"
        }
    },
    "nbformat": 4,
    "nbformat_minor": 1
}